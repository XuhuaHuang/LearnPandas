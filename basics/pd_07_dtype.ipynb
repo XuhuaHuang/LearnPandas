{
 "cells": [
  {
   "cell_type": "markdown",
   "metadata": {},
   "source": [
    "### Notes on data types in `pandas`\n",
    "File name: `pd_07_dtype.ipynb` <br>\n",
    "Author: Xuhua Huang <br>\n",
    "Last updated: September 10, 2022 <br>\n",
    "Created on: September 10, 2022"
   ]
  },
  {
   "cell_type": "markdown",
   "metadata": {},
   "source": [
    "#### Commonly seen data types in `pandas`\n",
    "* float\n",
    "* int\n",
    "* bool\n",
    "* datetime64[ns]\n",
    "* datetime64[ns, tz]\n",
    "* timedelta64[ns]\n",
    "* timedelta[ns]\n",
    "* category\n",
    "* object\n",
    "* string\n",
    "\n",
    "---\n",
    "\n",
    "**Example on how to check the data type of a `pd.Series`**\n",
    "* df.dtypes  # suppose df is a variable of pd.DataFrame\n",
    "* pd.api.types.is_bool_dtype(s)  # suppose s is a variable of pd.Series\n",
    "* pd.api.types.is_float_dtype(s)\n",
    "* pd.api.types.is_object_type(s)\n",
    "* pd.api.types.is_string_type(s)"
   ]
  }
 ],
 "metadata": {
  "kernelspec": {
   "display_name": "Python 3.10.6 64-bit (system)",
   "language": "python",
   "name": "python3"
  },
  "language_info": {
   "codemirror_mode": {
    "name": "ipython",
    "version": 3
   },
   "file_extension": ".py",
   "mimetype": "text/x-python",
   "name": "python",
   "nbconvert_exporter": "python",
   "pygments_lexer": "ipython3",
   "version": "3.10.6"
  },
  "orig_nbformat": 4,
  "vscode": {
   "interpreter": {
    "hash": "26de051ba29f2982a8de78e945f0abaf191376122a1563185a90213a26c5da77"
   }
  }
 },
 "nbformat": 4,
 "nbformat_minor": 2
}
