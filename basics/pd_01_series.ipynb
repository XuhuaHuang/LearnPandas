{
 "cells": [
  {
   "cell_type": "markdown",
   "metadata": {},
   "source": [
    "### Notes on Series with the pandas library\n",
    "#### Get Started\n",
    "File: `pd_01_Series.ipynb` <br>\n",
    "Xuhua Huang <br>\n",
    "Last updated: July 8, 2022 <br>\n",
    "Created on: June 18, 2022"
   ]
  },
  {
   "cell_type": "code",
   "execution_count": null,
   "metadata": {},
   "outputs": [],
   "source": []
  }
 ],
 "metadata": {
  "language_info": {
   "name": "python"
  },
  "orig_nbformat": 4
 },
 "nbformat": 4,
 "nbformat_minor": 2
}
